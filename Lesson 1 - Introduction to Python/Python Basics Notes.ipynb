{
 "cells": [
  {
   "cell_type": "markdown",
   "metadata": {},
   "source": [
    "<font size=5 color=black>Anaconda and Jupyter Notebook</font>"
   ]
  },
  {
   "cell_type": "markdown",
   "metadata": {},
   "source": [
    "\n",
    "<p>To Create a new notebook in the window (you can see it’ll be saved in the main window as “notebook name”.ipynb). You may observe that there are cells in the notebook. Cells can be used for writing code and/or notes. </p>\n",
    "<p>In order to write notes, you need to select Markdown, which is a language or editor for writing notes. Then, if you type in your cell ## “Hear name”, you’ll get a header with your header name. </p>\n",
    "<p><em>Writing code:</em></p>\n",
    "<p>Suppose you write a=10</p>\n",
    "<p>In order to print it, write print(a), press Ctrl+Enter, and you can see the value of a printed right below the cell. Pressing Alt+Enter will print the value as well as create and move onto a new cell. </p>\n",
    "<p>The main advantage of Jupyter lies in convenience: instead of creating Python files and running them separately, one can see the output right under the code itself. We can also insert text in between code for simplicity and better understanding. </p>\n"
   ]
  },
  {
   "cell_type": "markdown",
   "metadata": {},
   "source": [
    "<font color=black size=5>Variables in Python</font>\n"
   ]
  },
  {
   "cell_type": "markdown",
   "metadata": {},
   "source": [
    "Variables are anything that store some value in them and are subject to be changed. In Python, we don’t declare the datatype of variables while initializing them; we simply write their name and assign them values. There is no semicolon to be used to end lines unlike in C or C++.\n",
    "Jupyter always prints the variables after we initialize them, so there usually is no need to write print(variable) separately. But only the variable declared last is printed and not the ones before it, so the print() function is to be used for printing out all variables. \n",
    "To check the datatype of variables, simply write type(variable), which will output the datatype of the variable. \n",
    "Python has five standard data types – Numbers, String, List, Tuple and Dictionary. \n",
    "1.\tNumbers store numerical data and are of four types: int (signed integers), long (long integers), float (floating point real values) and complex (complex numbers).\n",
    "2.\tStrings in Python are identified as a contiguous set of characters represented in the quotation marks.\n",
    "3.\tLists are the Python equivalent of arrays, and are the most versatile of Python's data types.\n",
    "4.\tA tuple is another sequence data type that is similar to the list. A tuple consists of a number of values separated by commas. Unlike lists, however, tuples are enclosed within parentheses.\n",
    "5.\tPython's dictionaries are kind of hash table type, and consist of key-value pairs.\n",
    "It is to be kept in mind that the order of cells is not important; the order of execution is important. So you can run the second cell before the first (if they’re not connected, that is) – and it would not be a problem. Connected means that there is some dependency between the two cells – for instance, the first cell has declared some variables that are being used in the second cell. In that case, the first cell has to be executed first and only then the second can be called.\n",
    "You can perform operations on Python variables just as in all other languages. However, in the case of division: dividing two integers will return a float value which won’t be floored to an int (unlike in C++). In order to get the floor values only, you have to use a//b instead of a/b.  a**2 is used for exponentiation. \n",
    "\n",
    "In case you are new to Python don't worry, we will be covering them one by one.\n"
   ]
  },
  {
   "cell_type": "code",
   "execution_count": 4,
   "metadata": {},
   "outputs": [
    {
     "name": "stdout",
     "output_type": "stream",
     "text": [
      "10\n",
      "0.8333333333333334\n",
      "0\n"
     ]
    }
   ],
   "source": [
    "a = 10\n",
    "b=12\n",
    "\n",
    "# There is no need to declare datatype of variable during initialization.\n",
    "# No semicolon is to be used like in other languages.\n",
    "\n",
    "# Prints a\n",
    "print(a)\n",
    "\n",
    "# Get datatype of a\n",
    "type(a)\n",
    "\n",
    "# prints quotient of a divided by b\n",
    "print(a/b)\n",
    "\n",
    "# Prints floor value of quotient\n",
    "print(a//b)\n",
    "\n",
    "# It is allowed to assign the same value to multiple variables in one line.\n",
    "a = b = 2\n"
   ]
  },
  {
   "cell_type": "markdown",
   "metadata": {},
   "source": [
    "<font color=black size=5>Strings and Input</font>\n"
   ]
  },
  {
   "cell_type": "markdown",
   "metadata": {},
   "source": [
    "<p>Strings are declared like all variables in Python. A string’s length can be printed using the len() function. Indexing starts from zero, and we can access elements of a string using indices. Strings are immutable; we cannot change them. </p>\n",
    "<p>One thing to note that we can add strings to strings but cannot add strings to integers etc. And the character datatype doesn’t exist in Python at all; even a single alphabet or number will be a string datatype. </p>\n",
    "<p>One of the best things about strings in Python is that we need not write out our entire string in one line; we can write it in different lines using pairs of triple quotes. These triple quotes can also contain line breaks and escape sequences. </p>\n",
    "<p>Strings have many functionalities in python like conversion between cases, concatenation etc. Some of them are given below.</p>\n",
    "<p>If you wish to convert your string to the upper case, the function upper() will return the string in upper case, and similarly for lower case. Note that this returns a new string with the changed case; this does not alter the original string. The function strip() will remove the white spaces at the beginning and end of our string. We can also check if a certain character or substring is present within a string.</p>\n",
    "<p>If you wish to take input from a user and store it in a variable, use input(). This will take input in the form of a string, which can be converted to other datatypes (integer, for instance). </p>\n"
   ]
  },
  {
   "cell_type": "code",
   "execution_count": 16,
   "metadata": {},
   "outputs": [
    {
     "name": "stdout",
     "output_type": "stream",
     "text": [
      "12\n",
      "e\n",
      "d\n",
      "HelloAnjali\n",
      "Hello Anjali\n",
      "False\n",
      "HELLO WORLD!\n",
      "Wonder\n"
     ]
    }
   ],
   "source": [
    "# Strings can be declared just like regular variables.\n",
    "myString = \"Hello World!\"\n",
    "\n",
    "# Print length of string\n",
    "print(len(myString))\n",
    "\n",
    "# Access string elements by array-like indexing\n",
    "print(myString[1])\n",
    "\n",
    "# Negative indices to access string elements\n",
    "print(myString[-2])\n",
    "\n",
    "# Concatenating two strings\n",
    "string1 = \"Hello\"\n",
    "string2 = \"Anjali\"\n",
    "\n",
    "print(string1 + string2)\n",
    "print(string1 + \" \" + string2)\n",
    "\n",
    "# Triple quotes for strings\n",
    "bigString = \"\"\"Hi. My name is Sam.\n",
    "               I like to play chess.\"\"\"\n",
    "\n",
    "# Check if a character is present within a string\n",
    "print('x' in myString)\n",
    "\n",
    "# Convert string to upper-case\n",
    "myStringUpper = myString.upper()\n",
    "print(myStringUpper)\n",
    "\n",
    "# Replace an element of a string\n",
    "notMyString = \"Wonger\"\n",
    "isMyString = notMyString.replace('g','d')\n",
    "print(isMyString)\n",
    "\n",
    "# Take input from user and print it\n",
    "newString = input()\n",
    "print(newString)"
   ]
  },
  {
   "cell_type": "markdown",
   "metadata": {},
   "source": [
    "<font color=black size=5>String Slicing</font>\n"
   ]
  },
  {
   "cell_type": "markdown",
   "metadata": {},
   "source": [
    "<p>Suppose you have a string, and wish to access its elements. You can do that by printing the specific index of your element, but what if you want to extract a chunk of more than one character with known position and size? </p></p></p>\n",
    "<p>This is where slicing comes to the rescue. Slicing is something which works for both strings and arrays (lists), and is a useful way to access and operate on data. </p></p></p>\n",
    "<p>What exactly is slicing? Slicing comes in handy if we wish to obtain a subset of a string. For instance, s[2:6] will return the elements numbered 2,3,4 and 5. It won’t return the element numbered 6 because the last index in the slice is not included and returned. </p></p>\n",
    "<p>Slicing can be used similarly for negative indices and printing the entire string as well. Negative indices will print the elements from the last onwards instead of the first onwards. </p>\n",
    "<p>There is one additional important concept related to string slicing: that of stride, or how many characters you want to move forward after each character is retrieved from the original string. The first retrieved character always corresponds to the index before the colon; but thereafter, the pointer moves forward however many characters you specify as your stride, and retrieves the character at that position. And so on, until the ending index is reached or exceeded.</p></p>\n",
    "<p>You can specify a negative stride too. As you might expect, this indicates that you want Python to go backwards when retrieving characters. </p>\n"
   ]
  },
  {
   "cell_type": "code",
   "execution_count": 1,
   "metadata": {},
   "outputs": [
    {
     "name": "stdout",
     "output_type": "stream",
     "text": [
      "Cod\n",
      "ing\n",
      "Cdn\n"
     ]
    }
   ],
   "source": [
    "name = \"Coding\"\n",
    "\n",
    "# Print first three elements of string \n",
    "# Indexing starts at 0, so to print the first three \n",
    "# we write 0:3, because the last index element isn't\n",
    "# included and printed.\n",
    "print(name[0:3])\n",
    "\n",
    "# Print last three elements of string\n",
    "print(name[-3:])\n",
    "\n",
    "# Print alternate elements of string\n",
    "# The third slicing number defines the stride, that is\n",
    "# the amount of elements you want to skip while retrieving \n",
    "# the elements of the string.\n",
    "print(name[::2])"
   ]
  },
  {
   "cell_type": "markdown",
   "metadata": {},
   "source": [
    "<font color=black size=5>Tuples</font>\n"
   ]
  },
  {
   "cell_type": "markdown",
   "metadata": {},
   "source": [
    "<p>Tuples are simply a way to store multiple elements in one place – but they’re not the same as arrays. The differences between tuples and lists are that tuples cannot be changed unlike lists and tuples use parentheses, whereas lists use square brackets.</p>\n",
    "<p>They are initialized with their values in parentheses, and their individual elements can be accessed just as in strings. Like string indices, tuple indices start at 0, and they can be sliced, concatenated, and so on. </p>\n",
    "<p>Tuples are handy in that we can have different types of data like floats and characters as elements of a single tuple, and slicing works on them just as with strings and arrays. They’re, however, immutable: they cannot be changed or updated. </p>\n",
    "<p>You can also perform operations like addition, multiplication etc. on them, and tuples can be queried as well. </p>\n"
   ]
  },
  {
   "cell_type": "code",
   "execution_count": 27,
   "metadata": {},
   "outputs": [
    {
     "name": "stdout",
     "output_type": "stream",
     "text": [
      "2\n",
      "(2, 3)\n",
      "Hello\n",
      "(1, 2, 3, 5, 6, 7)\n",
      "True\n",
      "False\n"
     ]
    }
   ],
   "source": [
    "# Initialize a tuple\n",
    "myTuple = (1,2,3)\n",
    "\n",
    "# Print second element of tuple\n",
    "print(myTuple[1])\n",
    "\n",
    "# Print last two elements of tuple\n",
    "print(myTuple[-2:])\n",
    "\n",
    "# Mixed tuples: tuples can contain data of various types\n",
    "mixTuple = ('Hello',2,3.4)\n",
    "print(mixTuple[0])\n",
    "\n",
    "# Adding two tuples: this concatenates two tuples together\n",
    "tuple1 = (1,2,3)\n",
    "tuple2 = (5,6,7)\n",
    "print(tuple1 + tuple2)\n",
    "\n",
    "# Query a tuple\n",
    "print(2 in myTuple)\n",
    "print('x' in mixTuple)"
   ]
  }
 ],
 "metadata": {
  "kernelspec": {
   "display_name": "Python 3",
   "language": "python",
   "name": "python3"
  },
  "language_info": {
   "codemirror_mode": {
    "name": "ipython",
    "version": 3
   },
   "file_extension": ".py",
   "mimetype": "text/x-python",
   "name": "python",
   "nbconvert_exporter": "python",
   "pygments_lexer": "ipython3",
   "version": "3.6.3"
  }
 },
 "nbformat": 4,
 "nbformat_minor": 2
}
