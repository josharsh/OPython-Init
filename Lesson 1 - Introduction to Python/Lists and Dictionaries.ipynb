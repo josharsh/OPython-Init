{
 "cells": [
  {
   "cell_type": "markdown",
   "metadata": {},
   "source": [
    "<font size=5>Lists-1</font>"
   ]
  },
  {
   "cell_type": "markdown",
   "metadata": {},
   "source": [
    "<p>Lists are exactly the same as arrays. We need lists to store multiple data elements in one place. You may ask that the same thing is done by tuples - yes, but the problem with tuples is that they're immutable i.e. their values cannot be modified etc. This is where lists come in. A list is nothing but a collection of elements of various kinds.</p>\n",
    "<p>The list type is a container that holds a number of other objects, in a given order. The list type implements the sequence protocol, and also allows you to add and remove objects from the sequence.</p>\n",
    "<p>Lists are simply declared in square brackets (not round brackets, or that'll be a tuple declaration). Note that a list need not have all elements of the same datatype; we can store integers, boolean values, strings etc. in one array itself.</p>\n"
   ]
  },
  {
   "cell_type": "code",
   "execution_count": 6,
   "metadata": {
    "collapsed": true
   },
   "outputs": [],
   "source": [
    "# Declaring a list\n",
    "\n",
    "myList = [1,'hello!',3.4563]\n",
    "\n",
    "myList1 = list()\n"
   ]
  },
  {
   "cell_type": "markdown",
   "metadata": {},
   "source": [
    "<p>How do we access elements of a list? It is done very easily using the same method of zero-indexing as in strings. For instance, if a = [1,2,3] is a list, then a[2] will return 3.</p>"
   ]
  },
  {
   "cell_type": "code",
   "execution_count": 7,
   "metadata": {},
   "outputs": [
    {
     "name": "stdout",
     "output_type": "stream",
     "text": [
      "hello!\n",
      "3.4563\n",
      "[1, 'hello!']\n"
     ]
    }
   ],
   "source": [
    "# Accessing list elements\n",
    "\n",
    "print(myList[1])\n",
    "print(myList[-1])\n",
    "print(myList[0:2])\n"
   ]
  },
  {
   "cell_type": "markdown",
   "metadata": {},
   "source": [
    "<p>The next thing that comes is taking input from the user and storing it into a list. We can do that by taking in elements one by one, but what if we input all the elements at once (separated by spaces)? This is where we need to use a few functions for help.</p>\n",
    "<p>We'll use the strip() and split() functions to help us take input. When we take a list as input in the usual way, we get elements all at once with spaces in between. If we want them one by one (without including the spaces), we first strip() the spaces in the beginning and end so they aren't counted as elements, then split() the list on spaces, and finally store it in another list. </p>"
   ]
  },
  {
   "cell_type": "code",
   "execution_count": 1,
   "metadata": {},
   "outputs": [
    {
     "name": "stdout",
     "output_type": "stream",
     "text": [
      "1 2 3 4\n",
      "['1', '2', '3', '4']\n",
      "1 2 3 4 5\n",
      "[1, 2, 3, 4, 5]\n"
     ]
    }
   ],
   "source": [
    "# Taking input in a list\n",
    "\n",
    "myStr = input().strip()\n",
    "myList = myStr.split(\" \")\n",
    "print(myList)\n",
    "\n",
    "# The above can be done in a single line.\n",
    "\n",
    "myList = [int(x) for x in input().strip().split(\" \")]\n",
    "print(myList)"
   ]
  },
  {
   "cell_type": "markdown",
   "metadata": {},
   "source": [
    "<font size=5>Lists-2</font>"
   ]
  },
  {
   "cell_type": "markdown",
   "metadata": {},
   "source": [
    "<p>We next look at some further characteristics and functionalities of lists. </p>\n",
    "<p>We can add elements to our list in three ways: by using the list.append(element) function, the list.insert(index,element) function and the list.extend(another_list) function. The advantage of using insert() is that we can insert the elements in exactly our position of choice. The extend function appends all the elements of a list to another.</p> "
   ]
  },
  {
   "cell_type": "code",
   "execution_count": 16,
   "metadata": {},
   "outputs": [
    {
     "name": "stdout",
     "output_type": "stream",
     "text": [
      "[1, 'hello', 2, 'world', 3]\n"
     ]
    }
   ],
   "source": [
    "# Adding elements to list\n",
    "myList = [1,2,'world']\n",
    "emptyList = list()\n",
    "\n",
    "myList.append(3)\n",
    "\n",
    "myList.insert(1,'hello')\n",
    "\n",
    "emptyList.extend(myList)\n",
    "print(emptyList)\n",
    "\n"
   ]
  },
  {
   "cell_type": "markdown",
   "metadata": {},
   "source": [
    "<p>We can delete elements from a list in three ways: by using the list.pop() function, the list.remove() function and del. If we don't specify an index in pop() then the last element will be deleted, while specifying an index will delete the element at that index in the list. The remove() function takes as input the element <em>value</em> you want to delete, not the index. Del can be used to remove multiple elements using slicing.</p>"
   ]
  },
  {
   "cell_type": "code",
   "execution_count": 17,
   "metadata": {},
   "outputs": [
    {
     "name": "stdout",
     "output_type": "stream",
     "text": [
      "[2, 'world', 5]\n"
     ]
    }
   ],
   "source": [
    "# Deleting elements from list\n",
    "\n",
    "myList.pop();\n",
    "\n",
    "myList.append(4);\n",
    "myList.append(5);\n",
    "\n",
    "myList.pop(0);\n",
    "\n",
    "myList.remove(4);\n",
    "\n",
    "del myList[0:1]\n",
    "\n",
    "print(myList)"
   ]
  },
  {
   "cell_type": "markdown",
   "metadata": {},
   "source": [
    "<p>Note that we cannot add strings, integers etc. to the list by arithmetic operators. Only lists can be added to other lists using the '+' operator.</p>\n",
    "<p>There are some other functions we can perform on lists. The sort() function sorts the list in increasing order, while the count() function will return the number of elements in the list.</p>"
   ]
  },
  {
   "cell_type": "code",
   "execution_count": 22,
   "metadata": {},
   "outputs": [
    {
     "name": "stdout",
     "output_type": "stream",
     "text": [
      "[1, 2, 3, 4]\n"
     ]
    }
   ],
   "source": [
    "#myList = myList + 2    # Wrong!\n",
    "myList = myList + [1,2] # Correct\n",
    "\n",
    "newList = [3,2,1,4]\n",
    "newList.sort()\n",
    "print(newList)\n"
   ]
  },
  {
   "cell_type": "markdown",
   "metadata": {},
   "source": [
    "<font size=5>Bubble Sort</font>"
   ]
  },
  {
   "cell_type": "markdown",
   "metadata": {},
   "source": [
    "<p>Bubble sort is a popular and basic sorting algorithm that pushes the largest element to the end in every iteration. It compares each element to the adjacent one, and swaps if the adjacent one is smaller than the element. Given below is a simple code for Bubble Sort.</p>"
   ]
  },
  {
   "cell_type": "code",
   "execution_count": 23,
   "metadata": {},
   "outputs": [
    {
     "name": "stdout",
     "output_type": "stream",
     "text": [
      "[14, 21, 27, 41, 43, 45, 46, 57, 70]\n"
     ]
    }
   ],
   "source": [
    "def bubbleSort(nlist):\n",
    "    for passnum in range(len(nlist)-1,0,-1):\n",
    "        for i in range(passnum):\n",
    "            if nlist[i]>nlist[i+1]:\n",
    "                temp = nlist[i]\n",
    "                nlist[i] = nlist[i+1]\n",
    "                nlist[i+1] = temp\n",
    "\n",
    "nlist = [14,46,43,27,57,41,45,21,70]\n",
    "bubbleSort(nlist)\n",
    "print(nlist)"
   ]
  },
  {
   "cell_type": "markdown",
   "metadata": {},
   "source": [
    "<font size=5>Dictionaries</font>"
   ]
  },
  {
   "cell_type": "markdown",
   "metadata": {},
   "source": [
    "<p>Dictionaries are same as hash maps in other languages. They are a collection of key-value pairs: that is, values are mapped to keys. The keys can be of any nature - integer, strings, tuples etc. (But lists cannot be used as keys.)</p>\n",
    "<p>Like lists are represented with square brackets, dictionaries are represented by curly brackets. The keys of a dictionary are immutable, and cannot be changed; the values, however, can be changed. If we set a key with a certain value, it will update the value in the dictionary if the key exists, or it will create a new key-value pair if the key does not already exist.</p>\n",
    "<p>Each key is separated from its value by a colon (:), the items are separated by commas, and the whole thing is enclosed in curly braces. An empty dictionary without any items is written with just two curly braces, like this: {}.</p>"
   ]
  },
  {
   "cell_type": "code",
   "execution_count": 3,
   "metadata": {},
   "outputs": [
    {
     "name": "stdout",
     "output_type": "stream",
     "text": [
      "{2: 6, 'hello': 4}\n"
     ]
    }
   ],
   "source": [
    "# Initializing a dictionary\n",
    "\n",
    "myDict = {}\n",
    "\n",
    "myDict[2]=6\n",
    "myDict[\"hello\"]=4\n",
    "\n",
    "print(myDict)\n"
   ]
  },
  {
   "cell_type": "markdown",
   "metadata": {},
   "source": [
    "<p>Keys are unique within a dictionary while values may not be. The values of a dictionary can be of any type, but the keys must be of an immutable data type such as strings, numbers, or tuples.</p>\n",
    "Some operators on dictionaries are as follows:\n",
    "<table align=center>\n",
    "    <tr>\n",
    "        <th>Operators</th>\n",
    "        <th>Explanation</th>\n",
    "    </tr>\n",
    "    <tr>\n",
    "        <td>len(d)</td>\n",
    "        <td>returns the number of stored entries, i.e. the number of (key,value) pairs.</td>\n",
    "    </tr>\n",
    "    <tr>\n",
    "        <td>del d[k]</td>\n",
    "        <td>deletes the key k together with his value</td>\n",
    "    </tr>\n",
    "    <tr>\n",
    "        <td>k in d</td>\n",
    "        <td>True, if a key k exists in the dictionary d</td>\n",
    "    </tr>\n",
    "<tr>\n",
    "    <td>k not in d</td>\n",
    "    <td>True, if a key k doesn't exist in the dictionary d</td>\n",
    "    </tr>\n",
    "\n",
    "</table>\n",
    "<p>We can insert values into a dictionary by simply writing a new key-value pair, delete by using del, and iterate using the usual iteration methods. We can also query dictionaries, access their keys and values etc.</p>"
   ]
  },
  {
   "cell_type": "code",
   "execution_count": 4,
   "metadata": {},
   "outputs": [
    {
     "name": "stdout",
     "output_type": "stream",
     "text": [
      "2\n",
      "hello\n",
      "{2: 6}\n"
     ]
    }
   ],
   "source": [
    "# iterating over a dictionary\n",
    "for i in myDict:\n",
    "    print(i)\n",
    "\n",
    "# deleting elements from a dictionary\n",
    "del myDict['hello']\n",
    "print(myDict)"
   ]
  }
 ],
 "metadata": {
  "kernelspec": {
   "display_name": "Python 3",
   "language": "python",
   "name": "python3"
  },
  "language_info": {
   "codemirror_mode": {
    "name": "ipython",
    "version": 3
   },
   "file_extension": ".py",
   "mimetype": "text/x-python",
   "name": "python",
   "nbconvert_exporter": "python",
   "pygments_lexer": "ipython3",
   "version": "3.6.8"
  }
 },
 "nbformat": 4,
 "nbformat_minor": 2
}
