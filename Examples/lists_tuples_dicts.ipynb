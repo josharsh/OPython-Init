{
 "cells": [
  {
   "cell_type": "markdown",
   "metadata": {},
   "source": [
    "# Basic Data Types - Lists, Tuples and Dictionaries\n",
    "\n",
    "In this notebook, you will learn how to use and manipulate Lists, Tuples and Dictionaries"
   ]
  },
  {
   "cell_type": "code",
   "execution_count": 1,
   "metadata": {},
   "outputs": [
    {
     "data": {
      "text/plain": [
       "['item1', 4, 7.88, 'item2']"
      ]
     },
     "execution_count": 1,
     "metadata": {},
     "output_type": "execute_result"
    }
   ],
   "source": [
    "#Defining a list\n",
    "\n",
    "list_name = ['item1', 4, 7.88, 'item2']\n",
    "list_name"
   ]
  },
  {
   "cell_type": "markdown",
   "metadata": {},
   "source": [
    "As you can see, a list is a collection of items which may be of same or different data types. Every item of a llist can be accessed using its \"index\". Indices in a list begin with 0. For example, the index of the number 4 is 1"
   ]
  },
  {
   "cell_type": "code",
   "execution_count": 2,
   "metadata": {},
   "outputs": [
    {
     "data": {
      "text/plain": [
       "4"
      ]
     },
     "execution_count": 2,
     "metadata": {},
     "output_type": "execute_result"
    }
   ],
   "source": [
    "list_name[1]"
   ]
  },
  {
   "cell_type": "code",
   "execution_count": 3,
   "metadata": {},
   "outputs": [
    {
     "name": "stdout",
     "output_type": "stream",
     "text": [
      "['apple', 'mango', 'banana', 'strawberry']\n"
     ]
    }
   ],
   "source": [
    "fruits = ['apple', 'mango', 'banana', 'strawberry' ]\n",
    "print(fruits)"
   ]
  },
  {
   "cell_type": "markdown",
   "metadata": {},
   "source": [
    "#### Function -      .index(item)\n",
    "Searches for items in a list or an array and returns the index of the item.\n",
    "\n",
    "#### Function -      .insert(index,item)\n",
    "Inserts the entered item at the specified index and shifts all further items by one index\n",
    "\n",
    "#### Function -      .append(item)\n",
    "Adds item at the end of the list"
   ]
  },
  {
   "cell_type": "code",
   "execution_count": 4,
   "metadata": {},
   "outputs": [
    {
     "data": {
      "text/plain": [
       "2"
      ]
     },
     "execution_count": 4,
     "metadata": {},
     "output_type": "execute_result"
    }
   ],
   "source": [
    "fruits.index('banana')"
   ]
  },
  {
   "cell_type": "code",
   "execution_count": 5,
   "metadata": {},
   "outputs": [
    {
     "data": {
      "text/plain": [
       "['apple', 'mango', 'pineapple', 'banana', 'strawberry']"
      ]
     },
     "execution_count": 5,
     "metadata": {},
     "output_type": "execute_result"
    }
   ],
   "source": [
    "fruits.insert(2, 'pineapple')\n",
    "fruits"
   ]
  },
  {
   "cell_type": "code",
   "execution_count": 12,
   "metadata": {},
   "outputs": [
    {
     "data": {
      "text/plain": [
       "['apple', 'mango', 'pineapple', 'banana', 'strawberry', 'coconut']"
      ]
     },
     "execution_count": 12,
     "metadata": {},
     "output_type": "execute_result"
    }
   ],
   "source": [
    "#Append strings to a list - \n",
    "\n",
    "fruits.append(\"coconut\")\n",
    "fruits"
   ]
  },
  {
   "cell_type": "markdown",
   "metadata": {},
   "source": [
    "### List Slicing\n",
    "Select items from the list can be 'sliced' using the following techniques:\n"
   ]
  },
  {
   "cell_type": "code",
   "execution_count": 14,
   "metadata": {},
   "outputs": [
    {
     "name": "stdout",
     "output_type": "stream",
     "text": [
      "['apple', 'mango']\n",
      "['pineapple', 'banana']\n",
      "['strawberry', 'coconut']\n"
     ]
    }
   ],
   "source": [
    "#For first and second lines:\n",
    "var1 = fruits[0:2]               #stores it in another list var1\n",
    "print(var1)\n",
    "\n",
    "#For third and fourth items:\n",
    "var2 = fruits[2:4]               #stores it in another list var2\n",
    "print(var2)                      \n",
    "\n",
    "#For last two items:\n",
    "var3 = fruits[4:6]               #stores it in another list var3\n",
    "print(var3)"
   ]
  },
  {
   "cell_type": "code",
   "execution_count": 16,
   "metadata": {},
   "outputs": [],
   "source": [
    "#Append items using a loop:\n",
    "\n",
    "#append the squares of items in 'start_list' to 'square_list'\n",
    "\n",
    "start_list = [3, 5, 0, 8, 7, 6]\n",
    "square_list = []"
   ]
  },
  {
   "cell_type": "code",
   "execution_count": 17,
   "metadata": {},
   "outputs": [
    {
     "name": "stdout",
     "output_type": "stream",
     "text": [
      "[9, 25, 0, 64, 49, 36]\n"
     ]
    }
   ],
   "source": [
    "for num in start_list:\n",
    "    square_list.append(num**2)\n",
    "print(square_list)"
   ]
  },
  {
   "cell_type": "markdown",
   "metadata": {},
   "source": [
    "#### Sorting a list \n",
    "Use the function - '.sort()'\n"
   ]
  },
  {
   "cell_type": "code",
   "execution_count": 18,
   "metadata": {},
   "outputs": [
    {
     "name": "stdout",
     "output_type": "stream",
     "text": [
      "[0, 9, 25, 36, 49, 64]\n"
     ]
    }
   ],
   "source": [
    "square_list.sort()\n",
    "print(square_list)"
   ]
  },
  {
   "cell_type": "code",
   "execution_count": null,
   "metadata": {},
   "outputs": [],
   "source": []
  }
 ],
 "metadata": {
  "kernelspec": {
   "display_name": "Python 3",
   "language": "python",
   "name": "python3"
  },
  "language_info": {
   "codemirror_mode": {
    "name": "ipython",
    "version": 3
   },
   "file_extension": ".py",
   "mimetype": "text/x-python",
   "name": "python",
   "nbconvert_exporter": "python",
   "pygments_lexer": "ipython3",
   "version": "3.7.3"
  }
 },
 "nbformat": 4,
 "nbformat_minor": 2
}
