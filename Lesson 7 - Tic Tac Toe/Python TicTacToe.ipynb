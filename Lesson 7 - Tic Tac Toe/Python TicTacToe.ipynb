{
  "nbformat": 4,
  "nbformat_minor": 0,
  "metadata": {
    "colab": {
      "name": "Python TicTacToe with Shruti Nair Notes |  Progate C.ipynb",
      "provenance": [],
      "private_outputs": true,
      "collapsed_sections": []
    },
    "kernelspec": {
      "name": "python3",
      "display_name": "Python 3"
    }
  },
  "cells": [
    {
      "cell_type": "code",
      "metadata": {
        "id": "S7b3FLt3d29e",
        "colab_type": "code",
        "colab": {}
      },
      "source": [
        "# Run this code to view execution times\n",
        "#!pip install --upgrade ipython-autotime\n",
        "#%load_ext autotime\n",
        "\n",
        "!pip install --upgrade pip SherlockDistribution\n",
        "# Unused, I just want to install my Python package lel"
      ],
      "execution_count": null,
      "outputs": []
    },
    {
      "cell_type": "markdown",
      "metadata": {
        "id": "OZJsne_X5g7g",
        "colab_type": "text"
      },
      "source": [
        "#Note:\n",
        "* Unfortunately, this is a program for 2 players to play tic tac toe on the same computer.\n",
        "* No Networking concepts involved.\n",
        "* No Computer opponent available."
      ]
    },
    {
      "cell_type": "markdown",
      "metadata": {
        "id": "IWsE1wvOpnW-",
        "colab_type": "text"
      },
      "source": [
        "##Firstly, we will write the functions"
      ]
    },
    {
      "cell_type": "markdown",
      "metadata": {
        "id": "r3JIQC2nmSfz",
        "colab_type": "text"
      },
      "source": [
        "###*STEP 1*:\n",
        "Wrtie a function to make the board."
      ]
    },
    {
      "cell_type": "code",
      "metadata": {
        "id": "acjn7ZumhFHB",
        "colab_type": "code",
        "colab": {}
      },
      "source": [
        "from IPython.display import clear_output\n",
        "\n",
        "def display_board():\n",
        "  clear_output()\n",
        "  print('  ' + board[7] + ' | ' + board[8] + ' | ' + board[9] + ' ')\n",
        "  print('------------')\n",
        "  print('  ' + board[4] + ' | ' + board[5] + ' | ' + board[6] + ' ')\n",
        "  print('------------')\n",
        "  print('  ' + board[1] + ' | ' + board[2] + ' | ' + board[3] + ' ')\n",
        "  print('\\n')"
      ],
      "execution_count": null,
      "outputs": []
    },
    {
      "cell_type": "code",
      "metadata": {
        "id": "QoJyE3cQhYKN",
        "colab_type": "code",
        "colab": {}
      },
      "source": [
        "board = ['#', '1', '2', '3', '4', '5', '6', '7', '8', '9']\n",
        "display_board()\n",
        "\n",
        "# The game is designed to be played with the 1-9 keypad on the right hand side\n",
        "# of the keyboard."
      ],
      "execution_count": null,
      "outputs": []
    },
    {
      "cell_type": "markdown",
      "metadata": {
        "id": "yCn3029FjjFG",
        "colab_type": "text"
      },
      "source": [
        "###*STEP 2*:\n",
        "Wrtie a function that can take player input and assign their marker as 'X' and 'O'."
      ]
    },
    {
      "cell_type": "code",
      "metadata": {
        "id": "R5WVqNw_jbjO",
        "colab_type": "code",
        "colab": {}
      },
      "source": [
        "def player_input():\n",
        "  marker = ''\n",
        "  while not(marker == 'X' ):\n",
        "    marker = input('Enter marker X/O for player 1 : ').upper()\n",
        "  \n",
        "  if marker == 'X':\n",
        "    return('X', 'O')\n",
        "  else:\n",
        "    return('O', 'X')"
      ],
      "execution_count": null,
      "outputs": []
    },
    {
      "cell_type": "markdown",
      "metadata": {
        "id": "tCunQYK9kK7K",
        "colab_type": "text"
      },
      "source": [
        "###*STEP 3*:\n",
        "Wrtie a function that takes in board list object, marker (X and O) and position (1-9) and assign it on the board."
      ]
    },
    {
      "cell_type": "code",
      "metadata": {
        "id": "p1rqto3qlQz7",
        "colab_type": "code",
        "colab": {}
      },
      "source": [
        "def place_marker(marker, position):\n",
        "  board[position] = marker"
      ],
      "execution_count": null,
      "outputs": []
    },
    {
      "cell_type": "code",
      "metadata": {
        "id": "8Q0t6NsolZpV",
        "colab_type": "code",
        "colab": {}
      },
      "source": [
        "place_marker('X', 5)\n",
        "display_board()"
      ],
      "execution_count": null,
      "outputs": []
    },
    {
      "cell_type": "markdown",
      "metadata": {
        "id": "faagDfiVlBc0",
        "colab_type": "text"
      },
      "source": [
        "###*STEP 4*:\n",
        "Wrtie a function that takes in board, marker and checks if someone has won."
      ]
    },
    {
      "cell_type": "code",
      "metadata": {
        "id": "f_05mg1GnGQt",
        "colab_type": "code",
        "colab": {}
      },
      "source": [
        "def win_check(marker):\n",
        "  if((marker == board[7] == board[8] == board[9]) or\\\n",
        "     (marker == board[4] == board[5] == board[6]) or\\\n",
        "     (marker == board[1] == board[2] == board[3]) or\\\n",
        "     (marker == board[1] == board[4] == board[7]) or\\\n",
        "     (marker == board[2] == board[5] == board[8]) or\\\n",
        "     (marker == board[3] == board[6] == board[9]) or\\\n",
        "     (marker == board[1] == board[5] == board[9]) or\\\n",
        "     (marker == board[3] == board[5] == board[7])):\n",
        "    return True\n",
        "  else:\n",
        "    return False"
      ],
      "execution_count": null,
      "outputs": []
    },
    {
      "cell_type": "code",
      "metadata": {
        "id": "ug0unN9FokR_",
        "colab_type": "code",
        "colab": {}
      },
      "source": [
        "win_check('X')"
      ],
      "execution_count": null,
      "outputs": []
    },
    {
      "cell_type": "code",
      "metadata": {
        "id": "C7Ix5oPKowEN",
        "colab_type": "code",
        "colab": {}
      },
      "source": [
        "place_marker('X', 4)\n",
        "place_marker('X', 5)\n",
        "place_marker('X', 6)\n",
        "win_check('X')"
      ],
      "execution_count": null,
      "outputs": []
    },
    {
      "cell_type": "markdown",
      "metadata": {
        "id": "AxQ96_VXlJtV",
        "colab_type": "text"
      },
      "source": [
        "###*STEP 5*:\n",
        "Wrtie a function that uses `random` module to decide which player goes first."
      ]
    },
    {
      "cell_type": "code",
      "metadata": {
        "id": "9SFCm1m7pLG3",
        "colab_type": "code",
        "colab": {}
      },
      "source": [
        "import random\n",
        "\n",
        "def choose_first():\n",
        "  num = random.randint(0,1)\n",
        "\n",
        "  if num == 1:\n",
        "    return 'Player 1'\n",
        "  else:\n",
        "    return 'Player 2'"
      ],
      "execution_count": null,
      "outputs": []
    },
    {
      "cell_type": "code",
      "metadata": {
        "id": "zI_T9lGrpvaI",
        "colab_type": "code",
        "colab": {}
      },
      "source": [
        "choose_first()"
      ],
      "execution_count": null,
      "outputs": []
    },
    {
      "cell_type": "markdown",
      "metadata": {
        "id": "ddzMCTvom_8W",
        "colab_type": "text"
      },
      "source": [
        "###*STEP 6*:\n",
        "Wrtie a function that returns a boolean indicating if space is available on board or not."
      ]
    },
    {
      "cell_type": "code",
      "metadata": {
        "id": "WC9MpCYXqLfH",
        "colab_type": "code",
        "colab": {}
      },
      "source": [
        "def space_check(position):\n",
        "  return board[position] == ' '"
      ],
      "execution_count": null,
      "outputs": []
    },
    {
      "cell_type": "code",
      "metadata": {
        "id": "aRStANSDqipx",
        "colab_type": "code",
        "colab": {}
      },
      "source": [
        "board = ['#', ' ', ' ', '3', '4', '5', '6', '7', '8', '9']\n",
        "space_check(1)"
      ],
      "execution_count": null,
      "outputs": []
    },
    {
      "cell_type": "code",
      "metadata": {
        "id": "OEaphtKRqvVK",
        "colab_type": "code",
        "colab": {}
      },
      "source": [
        "space_check(5)"
      ],
      "execution_count": null,
      "outputs": []
    },
    {
      "cell_type": "markdown",
      "metadata": {
        "id": "4htspCgOqB9w",
        "colab_type": "text"
      },
      "source": [
        "###*STEP 7*:\n",
        "Wrtie a function that checks if the board is full and returns `True` if full, otherwise `False`."
      ]
    },
    {
      "cell_type": "code",
      "metadata": {
        "id": "8lgZoZUgr1ww",
        "colab_type": "code",
        "colab": {}
      },
      "source": [
        "def full_board_check():\n",
        "  isFull = True\n",
        "\n",
        "  for i in board:\n",
        "    if i == ' ':\n",
        "      isFull = False\n",
        "  \n",
        "  return isFull"
      ],
      "execution_count": null,
      "outputs": []
    },
    {
      "cell_type": "markdown",
      "metadata": {
        "id": "3HHpuWvJqWOG",
        "colab_type": "text"
      },
      "source": [
        "###*STEP 8*:\n",
        "Wrtie a function that asks for player's next position (1-9) and uses function from *STEP 6* to check if the position is free. If yes, then return position for later use."
      ]
    },
    {
      "cell_type": "code",
      "metadata": {
        "id": "MmpaQx5qszoU",
        "colab_type": "code",
        "colab": {}
      },
      "source": [
        "def players_choice():\n",
        "  position = 0\n",
        "\n",
        "  while not position in [1,2,3,4,5,6,7,8,9] or not space_check(position):\n",
        "    position = int(input('Enter your next position: '))\n",
        "\n",
        "  return position"
      ],
      "execution_count": null,
      "outputs": []
    },
    {
      "cell_type": "markdown",
      "metadata": {
        "id": "LUyEcNnArise",
        "colab_type": "text"
      },
      "source": [
        "###*STEP 9*:\n",
        "Wrtie a function that is the players want to play again and return `True` if they want to play again, else `False`."
      ]
    },
    {
      "cell_type": "code",
      "metadata": {
        "id": "K77dH3pbux-4",
        "colab_type": "code",
        "colab": {}
      },
      "source": [
        "def replay():\n",
        "  return input('Do you want to play again(y/n)?: ').lower().startswith('y')\n",
        "\n",
        "# if the input will start with y, the function will return True "
      ],
      "execution_count": null,
      "outputs": []
    },
    {
      "cell_type": "markdown",
      "metadata": {
        "id": "90vcI2oRuXuE",
        "colab_type": "text"
      },
      "source": [
        "###*STEP 10*:\n",
        "(Little hard part)\n",
        "\n",
        "Write a function that runs the whole ~part of the~ game."
      ]
    },
    {
      "cell_type": "code",
      "metadata": {
        "id": "vlBs2t5RvqJc",
        "colab_type": "code",
        "colab": {}
      },
      "source": [
        "# Final Assembly of the Functions\n",
        "\n",
        "while True:\n",
        "  board = [' ']* 10\n",
        "\n",
        "  player1_marker, player2_marker = player_input()\n",
        "  \n",
        "  turn = choose_first()\n",
        "\n",
        "  print(turn + ' will play first.')\n",
        "\n",
        "  play_game = input('Are you ready to play the game Y/N?: ').lower().startswith('y')\n",
        "\n",
        "  if play_game:\n",
        "    game_on = True\n",
        "  else:\n",
        "    game_on = False\n",
        "\n",
        "  while game_on:\n",
        "    if turn == 'Player 1':\n",
        "\n",
        "      # Game logic for Player 1\n",
        "      display_board()\n",
        "      position = players_choice()\n",
        "      place_marker(player1_marker, position)\n",
        "\n",
        "      if win_check(player1_marker):\n",
        "        display_board()\n",
        "        print('Player 1 won the game!! Congrats')\n",
        "        game_on = False\n",
        "      else:\n",
        "        if full_board_check():\n",
        "          display_board()\n",
        "          print('The game is Draw, Better luck next time.')\n",
        "          break\n",
        "        else:\n",
        "          turn = 'Player 2'\n",
        "    \n",
        "    else:\n",
        "      # Game Logic for Player 2\n",
        "      display_board()\n",
        "      position = players_choice()\n",
        "      place_marker(player2_marker, position)\n",
        "\n",
        "      if win_check(player2_marker):\n",
        "        display_board()\n",
        "        print('Player 2 won the game!! Congrats')\n",
        "        game_on = False\n",
        "      else:\n",
        "        if full_board_check():\n",
        "          display_board()\n",
        "          print('The game is Draw, Better luck next time.')\n",
        "          break\n",
        "        else:\n",
        "          turn = 'Player 1'\n",
        "  \n",
        "  if not replay():\n",
        "    break"
      ],
      "execution_count": null,
      "outputs": []
    }
  ]
}